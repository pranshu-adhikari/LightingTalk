{
 "cells": [
  {
   "cell_type": "code",
   "execution_count": 2,
   "id": "421ed7c7",
   "metadata": {},
   "outputs": [],
   "source": [
    "# # #kivy practice \n",
    "import kivy\n",
    "kivy.require('2.1.0') # \n",
    "\n",
    "from kivy.app import App\n",
    "from kivy.uix.label import Label\n",
    "\n",
    "\n",
    "class MyApp(App):\n",
    "\n",
    "    def build(self):\n",
    "        return Label(text='Hello world')\n"
   ]
  },
  {
   "cell_type": "code",
   "execution_count": null,
   "id": "45a2dd38",
   "metadata": {},
   "outputs": [],
   "source": []
  }
 ],
 "metadata": {
  "kernelspec": {
   "display_name": "Python 3 (ipykernel)",
   "language": "python",
   "name": "python3"
  },
  "language_info": {
   "codemirror_mode": {
    "name": "ipython",
    "version": 3
   },
   "file_extension": ".py",
   "mimetype": "text/x-python",
   "name": "python",
   "nbconvert_exporter": "python",
   "pygments_lexer": "ipython3",
   "version": "3.9.12"
  }
 },
 "nbformat": 4,
 "nbformat_minor": 5
}
